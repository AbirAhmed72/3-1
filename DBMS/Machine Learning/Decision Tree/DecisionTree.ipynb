{
 "cells": [
  {
   "cell_type": "code",
   "execution_count": 14,
   "metadata": {},
   "outputs": [
    {
     "name": "stdout",
     "output_type": "stream",
     "text": [
      "28.6\n",
      "[1 1 1 1 1 1 1 1 0 1 0 0 0 0 0 0 0 0 0 0 0 0 0 1 1 1 0 1 0 0 1 1 1 1 1 1 1\n",
      " 1 0 1 0 0 0 0 0 0 0 0 0 0 0 0 0 1 1 1 0 1 0 0 1 1 1 1 1 1 1 1 0 1 0 0 0 0\n",
      " 0 0 0 0 0 0 0 0 0 1 1 1 0 1 0 0]\n",
      "[51 39]\n",
      "90\n",
      "Entropy of the dataset:  0.5227953802358848 nice\n"
     ]
    }
   ],
   "source": [
    "import numpy as np\n",
    "\n",
    "# define the dataset of ages\n",
    "ages = np.array([35, 29, 50, 32, 67, 41, 36, 59, 20, 34, 21, 15, 15,\n",
    "                 15, 17, 17, 23, 27, 15, 18, 22, 16, 28, 40, 30, 34, \n",
    "                 20, 35, 24, 19, 35, 29, 50, 32, 67, 41, 36, 63, 20, \n",
    "                 34, 21, 15, 15, 15, 17, 17, 23, 27, 15, 18, 22, 16, \n",
    "                 28, 40, 30, 34, 20, 35, 24, 19, 35, 29, 50, 32, 67, \n",
    "                 41, 36, 67, 20, 34, 21, 15, 15, 15, 17, 17, 23, 27, \n",
    "                 15, 18, 22, 16, 28, 40, 30, 34, 20, 35, 24, 19])\n",
    "\n",
    "means = np.mean(ages)\n",
    "medians = np.median(ages)\n",
    "print(means)\n",
    "\n",
    "# define the age intervals\n",
    "# bins = [20, 30, 40, 50, 60, 70]\n",
    "bins = [means, 70]\n",
    "\n",
    "# convert the ages into categorical values\n",
    "ages_binned = np.digitize(ages, bins)\n",
    "print(ages_binned)\n",
    "\n",
    "# calculate the histogram of the categorical values\n",
    "histogram = np.bincount(ages_binned)\n",
    "print(histogram)\n",
    "\n",
    "# calculate the total number of samples\n",
    "n_samples = np.sum(histogram)\n",
    "print(n_samples)\n",
    "\n",
    "# calculate the entropy\n",
    "entropy = 0\n",
    "\n",
    "for i in range(1, len(histogram)):\n",
    "    p = histogram[i] / n_samples\n",
    "    if p > 0:\n",
    "        entropy -= p * np.log2(p)\n",
    "\n",
    "print(\"Entropy of the dataset: \", entropy)\n"
   ]
  },
  {
   "cell_type": "code",
   "execution_count": 80,
   "metadata": {},
   "outputs": [
    {
     "name": "stdout",
     "output_type": "stream",
     "text": [
      "0.005365248242705789\n",
      "0.1768284395159666\n",
      "0.3393774200815082\n",
      "0.1487754130143315\n",
      "0.19737630218648294\n",
      "0.014499869423472644\n"
     ]
    }
   ],
   "source": [
    "import pandas as pd\n",
    "import numpy as np\n",
    "import random\n",
    "from sklearn.utils import shuffle\n",
    "# from google.colab import drive\n",
    "import statistics\n",
    "import math\n",
    "from scipy.stats import norm\n",
    "# drive.mount('/content/drive')\n",
    "\n",
    "df = pd.DataFrame(pd.read_excel('Cryotherapy.xlsx'))\n",
    "\n",
    "def convertToClassifiedAndGetGain(df, column, result):\n",
    "    leftNo = 0\n",
    "    leftYes = 0\n",
    "    rightNo = 0\n",
    "    rightYes = 0\n",
    "    entropyLeft = 0\n",
    "    entropyRight = 0\n",
    "\n",
    "    for index, row in df.iterrows():\n",
    "        if row[column] < df[column].mean():\n",
    "            # print(row['Age'])\n",
    "            if row[result] == 0:\n",
    "                leftNo += 1\n",
    "            else:\n",
    "                leftYes += 1\n",
    "\n",
    "            entropyLeft = calculateEntropy(leftNo, leftYes)\n",
    "            # leftAge.append(row['Age'])\n",
    "        else:\n",
    "            if row[result] == 0:\n",
    "                rightNo += 1\n",
    "            else:\n",
    "                rightYes += 1\n",
    "            # rightAge.append(row['Age'])\n",
    "            entropyRight = calculateEntropy(rightNo, rightYes)\n",
    "\n",
    "    return entropyTotal - (((leftNo + leftYes)/len(df[column])) * entropyLeft) - (((rightNo + rightYes)/len(df[column])) * entropyRight)\n",
    "\n",
    "def countYesNo(df, column):\n",
    "    yes = 0\n",
    "    no = 0\n",
    "    for index, row in df.iterrows():\n",
    "        if row[column] == 0:\n",
    "            no += 1\n",
    "        else:\n",
    "            yes += 1\n",
    "\n",
    "    return no, yes\n",
    "            \n",
    "def calculateEntropy(no, yes):\n",
    "    if(yes == 0 or no == 0):\n",
    "        return 0\n",
    "    else:\n",
    "        return (-((no/(yes + no)) * math.log2(no/(yes + no))) - \n",
    "                ((yes/(yes + no)) * math.log2(yes/(yes + no))))\n",
    "\n",
    "def calculateGain(df, column, result):\n",
    "    cardinalityEntropy = 0\n",
    "    # print(df[column].unique())\n",
    "    for value in df[column].unique():\n",
    "        selected_rows = df.loc[df[column] == value]            \n",
    "        # print(selected_rows)\n",
    "        result_counts = selected_rows[result].value_counts()\n",
    "        # print(result_counts)\n",
    "        count_of_0 = result_counts.get(0,0)\n",
    "        count_of_1 = result_counts.get(1,0)\n",
    "\n",
    "        Entropy = calculateEntropy(count_of_0, count_of_1)\n",
    "\n",
    "        cardinalityEntropy += Entropy * (count_of_0 + count_of_1)/len(df[column])\n",
    "        # print(count_of_0)\n",
    "        # print(f'For type {value}, results are {result_counts}')\n",
    "    return entropyTotal - cardinalityEntropy\n",
    "\n",
    "totalNo ,totalYes = countYesNo(df, 'Result_of_Treatment')\n",
    "entropyTotal = calculateEntropy(totalNo, totalYes)\n",
    "\n",
    "gainOfSex = calculateGain(df, 'Sex', 'Result_of_Treatment')\n",
    "gainOfAge = convertToClassifiedAndGetGain(df, 'Age', 'Result_of_Treatment')\n",
    "gainOfTime = convertToClassifiedAndGetGain(df, 'Time', 'Result_of_Treatment')\n",
    "gainOfWarts = calculateGain(df, 'Number_of_Warts', 'Result_of_Treatment')\n",
    "gainOfType = calculateGain(df, 'Type', 'Result_of_Treatment')\n",
    "gainOfArea = convertToClassifiedAndGetGain(df, 'Area', 'Result_of_Treatment')\n",
    "\n",
    "print(gainOfSex)\n",
    "print(gainOfAge)\n",
    "print(gainOfTime)\n",
    "print(gainOfWarts)\n",
    "print(gainOfType)\n",
    "print(gainOfArea)"
   ]
  },
  {
   "cell_type": "code",
   "execution_count": 81,
   "metadata": {},
   "outputs": [
    {
     "name": "stdout",
     "output_type": "stream",
     "text": [
      "Unexpected exception formatting exception. Falling back to standard exception\n"
     ]
    },
    {
     "name": "stderr",
     "output_type": "stream",
     "text": [
      "Traceback (most recent call last):\n",
      "  File \"C:\\Users\\Abir\\AppData\\Roaming\\Python\\Python311\\site-packages\\IPython\\core\\interactiveshell.py\", line 3433, in run_code\n",
      "    exec(code_obj, self.user_global_ns, self.user_ns)\n",
      "  File \"C:\\Users\\Abir\\AppData\\Local\\Temp\\ipykernel_5332\\2103963163.py\", line 1, in <module>\n",
      "    from sklearn.metrics import entropy\n",
      "ImportError: cannot import name 'entropy' from 'sklearn.metrics' (C:\\Users\\Abir\\AppData\\Roaming\\Python\\Python311\\site-packages\\sklearn\\metrics\\__init__.py)\n",
      "\n",
      "During handling of the above exception, another exception occurred:\n",
      "\n",
      "Traceback (most recent call last):\n",
      "  File \"C:\\Users\\Abir\\AppData\\Roaming\\Python\\Python311\\site-packages\\IPython\\core\\interactiveshell.py\", line 2052, in showtraceback\n",
      "    stb = self.InteractiveTB.structured_traceback(\n",
      "          ^^^^^^^^^^^^^^^^^^^^^^^^^^^^^^^^^^^^^^^^\n",
      "  File \"C:\\Users\\Abir\\AppData\\Roaming\\Python\\Python311\\site-packages\\IPython\\core\\ultratb.py\", line 1118, in structured_traceback\n",
      "    return FormattedTB.structured_traceback(\n",
      "           ^^^^^^^^^^^^^^^^^^^^^^^^^^^^^^^^^\n",
      "  File \"C:\\Users\\Abir\\AppData\\Roaming\\Python\\Python311\\site-packages\\IPython\\core\\ultratb.py\", line 1012, in structured_traceback\n",
      "    return VerboseTB.structured_traceback(\n",
      "           ^^^^^^^^^^^^^^^^^^^^^^^^^^^^^^^\n",
      "  File \"C:\\Users\\Abir\\AppData\\Roaming\\Python\\Python311\\site-packages\\IPython\\core\\ultratb.py\", line 865, in structured_traceback\n",
      "    formatted_exception = self.format_exception_as_a_whole(etype, evalue, etb, number_of_lines_of_context,\n",
      "                          ^^^^^^^^^^^^^^^^^^^^^^^^^^^^^^^^^^^^^^^^^^^^^^^^^^^^^^^^^^^^^^^^^^^^^^^^^^^^^^^^\n",
      "  File \"C:\\Users\\Abir\\AppData\\Roaming\\Python\\Python311\\site-packages\\IPython\\core\\ultratb.py\", line 799, in format_exception_as_a_whole\n",
      "    self.get_records(etb, number_of_lines_of_context, tb_offset) if etb else []\n",
      "    ^^^^^^^^^^^^^^^^^^^^^^^^^^^^^^^^^^^^^^^^^^^^^^^^^^^^^^^^^^^^\n",
      "  File \"C:\\Users\\Abir\\AppData\\Roaming\\Python\\Python311\\site-packages\\IPython\\core\\ultratb.py\", line 845, in get_records\n",
      "    style = stack_data.style_with_executing_node(style, self._tb_highlight)\n",
      "            ^^^^^^^^^^^^^^^^^^^^^^^^^^^^^^^^^^^^^^^^^^^^^^^^^^^^^^^^^^^^^^^\n",
      "  File \"C:\\Users\\Abir\\AppData\\Roaming\\Python\\Python311\\site-packages\\stack_data\\core.py\", line 455, in style_with_executing_node\n",
      "    class NewStyle(style):\n",
      "  File \"C:\\Users\\Abir\\AppData\\Roaming\\Python\\Python311\\site-packages\\pygments\\style.py\", line 91, in __new__\n",
      "    ndef[4] = colorformat(styledef[3:])\n",
      "              ^^^^^^^^^^^^^^^^^^^^^^^^^\n",
      "  File \"C:\\Users\\Abir\\AppData\\Roaming\\Python\\Python311\\site-packages\\pygments\\style.py\", line 58, in colorformat\n",
      "    assert False, \"wrong color format %r\" % text\n",
      "AssertionError: wrong color format 'ansiyellow'\n"
     ]
    }
   ],
   "source": [
    "from sklearn.metrics import entropy\n",
    "\n",
    "info_gain = calculate_info_gain(df, 'Sex', 'Result_of_Treatment')\n",
    "\n",
    "print(\"Information gain of column 'A' with respect to the target column 'Target': \", info_gain)"
   ]
  },
  {
   "cell_type": "code",
   "execution_count": 74,
   "metadata": {},
   "outputs": [
    {
     "name": "stdout",
     "output_type": "stream",
     "text": [
      "0.19737630218648294\n"
     ]
    }
   ],
   "source": [
    "print(calculateGain(df, 'Type', 'Result_of_Treatment'))"
   ]
  }
 ],
 "metadata": {
  "kernelspec": {
   "display_name": "Python 3.11.1 64-bit",
   "language": "python",
   "name": "python3"
  },
  "language_info": {
   "codemirror_mode": {
    "name": "ipython",
    "version": 3
   },
   "file_extension": ".py",
   "mimetype": "text/x-python",
   "name": "python",
   "nbconvert_exporter": "python",
   "pygments_lexer": "ipython3",
   "version": "3.11.1"
  },
  "orig_nbformat": 4,
  "vscode": {
   "interpreter": {
    "hash": "5238573367df39f7286bb46f9ff5f08f63a01a80960060ce41e3c79b190280fa"
   }
  }
 },
 "nbformat": 4,
 "nbformat_minor": 2
}
