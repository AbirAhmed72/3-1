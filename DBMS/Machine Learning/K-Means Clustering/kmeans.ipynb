{
 "cells": [
  {
   "cell_type": "code",
   "execution_count": 15,
   "metadata": {},
   "outputs": [
    {
     "name": "stdout",
     "output_type": "stream",
     "text": [
      "5\n"
     ]
    }
   ],
   "source": [
    "import pandas as pd\n",
    "import numpy as np\n",
    "\n",
    "\n",
    "data = pd.read_csv('data.csv', header=None)\n",
    "\n",
    "# Create DataFrame with column names 'col1' and 'col2'\n",
    "df = pd.DataFrame({'X': data[0], 'Y': data[1]})\n",
    "\n",
    "\n",
    "# print(df)\n",
    "print(df.iloc[2][0])\n",
    "# print(df.X)\n",
    "# print(df.values)\n",
    "\n",
    "\n"
   ]
  },
  {
   "cell_type": "code",
   "execution_count": null,
   "metadata": {},
   "outputs": [],
   "source": [
    "import pandas as pd\n",
    "import numpy as np\n",
    "from numpy import sqrt\n",
    "\n",
    "\n",
    "data = pd.read_csv('data.csv', header=None)\n",
    "\n",
    "df = pd.DataFrame({'X': data[0], 'Y': data[1]})\n",
    "\n",
    "def calcDist(X1, Y1, X2, Y2):\n",
    "    return sqrt((X2-X1)**2 + (Y2-Y1)**2)\n",
    "\n",
    "c1 = (1, 5)\n",
    "c2 = (4, 1)\n",
    "c3 = (8, 4)\n",
    "\n",
    "centroids = [c1, c2, c3]\n",
    "distFromC1, distFromC2, distFromC3 = [], [], []\n",
    "\n",
    "for i, centroid in enumerate(centroids):\n",
    "    dist = calcDist(df['X'], df['Y'], centroid[0], centroid[1])\n",
    "    if i == 0:\n",
    "        distFromC1 = dist\n",
    "    elif i == 1:\n",
    "        distFromC2 = dist\n",
    "    else:\n",
    "        distFromC3 = dist\n",
    "\n",
    "min_values = np.array([])\n",
    "min_arrays = np.array([])\n",
    "\n",
    "for a1, a2, a3 in zip(distFromC1, distFromC2, distFromC3):\n",
    "    if a1 <= a2 and a1 <= a3:\n",
    "        min_values = np.append(min_values, a1)\n",
    "        min_arrays = np.append(min_arrays, 'cluster1')\n",
    "    elif a2 <= a3:\n",
    "        min_values = np.append(min_values, a2)\n",
    "        min_arrays = np.append(min_arrays, 'cluster2')\n",
    "    else:\n",
    "        min_values = np.append(min_values, a3)\n",
    "        min_arrays = np.append(min_arrays, 'cluster3')\n",
    "\n",
    "for i, min_value in enumerate(min_values):\n",
    "    print(f\"The minimum value from iteration {i+1} is {min_value} and it came from {min_arrays[i]}.\")\n",
    "indices = np.where(min_arrays == 'cluster1')[0]\n",
    "\n",
    "df_cluster1 = df.iloc[indices]\n",
    "df_cluster2 = df.iloc[np.where(min_arrays == 'cluster2')[0]]\n",
    "df_cluster3 = df.iloc[np.where(min_arrays == 'cluster3')[0]]\n",
    "\n",
    "data = np.array(df_cluster1)\n",
    "\n",
    "mean_first_value = np.mean(data[:, 0])\n",
    "mean_second_value = np.mean(data[:, 1])\n",
    "\n",
    "centroid1 = (mean_first_value, mean_second_value)\n",
    "centroid2 = (np.mean(np.array(df_cluster2)[:, 0]), np.mean(np.array(df_cluster2)[:, 1]))\n",
    "centroid3 = (np.mean(np.array(df_cluster3)[:, 0]), np.mean(np.array(df_cluster3)[:, 1]))\n",
    "\n",
    "print(centroid1)\n",
    "print(centroid2)\n",
    "print(centroid3)"
   ]
  },
  {
   "cell_type": "code",
   "execution_count": 16,
   "metadata": {},
   "outputs": [
    {
     "name": "stdout",
     "output_type": "stream",
     "text": [
      "4.123105625617661\n"
     ]
    }
   ],
   "source": [
    "from numpy import sqrt\n",
    "\n",
    "\n",
    "def calcDist(X1, Y1, X2, Y2):\n",
    "    return sqrt((X2-X1)**2 + (Y2-Y1)**2)\n",
    "\n",
    "# print(calcDist(2, 4, 1, 5))\n",
    "# print(calcDist(df.iloc[2][0], df.iloc[2][1], c1[0], c1[1]))"
   ]
  },
  {
   "cell_type": "code",
   "execution_count": null,
   "metadata": {},
   "outputs": [],
   "source": [
    "c1 = (1, 5)\n",
    "c2 = (4, 1)\n",
    "c3 = (8, 4)\n",
    "\n",
    "# distC1 = calcDist(df['X'], df['Y'], c1[0], c1[1])\n",
    "# distC2 = calcDist(df['X'], df['Y'], c2[0], c2[1])\n",
    "# distC3 = calcDist(df['X'], df['Y'], c3[0], c3[1])\n",
    "\n",
    "centroids = [c1, c2, c3]\n",
    "distFromC1, distFromC2, distFromC3 = [], [], []\n",
    "\n",
    "for i, centroid in enumerate(centroids):\n",
    "    dist = calcDist(df['X'], df['Y'], centroid[0], centroid[1])\n",
    "    if i == 0:\n",
    "        distFromC1 = dist\n",
    "    elif i == 1:\n",
    "        distFromC2 = dist\n",
    "    else:\n",
    "        distFromC3 = dist\n",
    "\n",
    "# print(distFromC1)\n",
    "# print(distFromC2)\n",
    "# print(distFromC3)\n",
    "# distFromC1 = np.array(distFromC1)\n",
    "# distFromC2 = np.array(distFromC2)\n",
    "# distFromC3 = np.array(distFromC3)\n",
    "\n",
    "\n"
   ]
  },
  {
   "cell_type": "code",
   "execution_count": null,
   "metadata": {},
   "outputs": [],
   "source": [
    "min_values = np.array([])\n",
    "min_arrays = np.array([])\n",
    "\n",
    "# iterate over the corresponding elements of the arrays and compare them\n",
    "for a1, a2, a3 in zip(distFromC1, distFromC2, distFromC3):\n",
    "    # determine the min value and its source array\n",
    "    if a1 <= a2 and a1 <= a3:\n",
    "        min_values = np.append(min_values, a1)\n",
    "        min_arrays = np.append(min_arrays, 'cluster1')\n",
    "    elif a2 <= a3:\n",
    "        min_values = np.append(min_values, a2)\n",
    "        min_arrays = np.append(min_arrays, 'cluster2')\n",
    "    else:\n",
    "        min_values = np.append(min_values, a3)\n",
    "        min_arrays = np.append(min_arrays, 'cluster3')\n",
    "\n",
    "# print the results\n",
    "for i, min_value in enumerate(min_values):\n",
    "    print(f\"The minimum value from iteration {i+1} is {min_value} and it came from {min_arrays[i]}.\")"
   ]
  },
  {
   "cell_type": "code",
   "execution_count": 46,
   "metadata": {},
   "outputs": [],
   "source": [
    "# print(min_arrays)\n",
    "indices = np.where(min_arrays == 'cluster1')[0]\n",
    "# print(indices)\n",
    "# slice dataframe using indices\n",
    "df_cluster1 = df.iloc[indices]\n",
    "df_cluster2 = df.iloc[np.where(min_arrays == 'cluster2')[0]]\n",
    "df_cluster3 = df.iloc[np.where(min_arrays == 'cluster3')[0]]\n",
    "\n",
    "# print the resulting dataframe\n",
    "# print(df_cluster1)\n",
    "# print(df_cluster2)\n",
    "# print(df_cluster3)"
   ]
  },
  {
   "cell_type": "code",
   "execution_count": 47,
   "metadata": {},
   "outputs": [
    {
     "name": "stdout",
     "output_type": "stream",
     "text": [
      "(2.6666666666666665, 5.666666666666667)\n",
      "(4.5, 3.0)\n",
      "(6.0, 5.0)\n"
     ]
    }
   ],
   "source": [
    "data = np.array(df_cluster1)\n",
    "\n",
    "mean_first_value = np.mean(data[:, 0])\n",
    "mean_second_value = np.mean(data[:, 1])\n",
    "\n",
    "# print(\"Mean of first values:\", mean_first_value)\n",
    "# print(\"Mean of second values:\", mean_second_value)\n",
    "centroid1 = (mean_first_value, mean_second_value)\n",
    "centroid2 = (np.mean(np.array(df_cluster2)[:, 0]), np.mean(np.array(df_cluster2)[:, 1]))\n",
    "centroid3 = (np.mean(np.array(df_cluster3)[:, 0]), np.mean(np.array(df_cluster3)[:, 1]))\n",
    "\n",
    "print(centroid1)\n",
    "print(centroid2)\n",
    "print(centroid3)"
   ]
  },
  {
   "cell_type": "code",
   "execution_count": 51,
   "metadata": {},
   "outputs": [
    {
     "name": "stdout",
     "output_type": "stream",
     "text": [
      "The final centroids are: (3.6666666666666665, 9.0), (7.0, 4.333333333333333), (1.5, 3.5)\n"
     ]
    }
   ],
   "source": [
    "import pandas as pd\n",
    "import numpy as np\n",
    "from numpy import sqrt\n",
    "\n",
    "data = pd.read_csv('data2.csv', header=None)\n",
    "\n",
    "df = pd.DataFrame({'X': data[0], 'Y': data[1]})\n",
    "\n",
    "def calcDist(X1, Y1, X2, Y2):\n",
    "    return sqrt((X2-X1)**2 + (Y2-Y1)**2)\n",
    "\n",
    "# c1 = (1, 5)\n",
    "# c2 = (4, 1)           #for data1\n",
    "# c3 = (8, 4)\n",
    "c1 = (2, 10)\n",
    "c2 = (5, 8)             #for data2\n",
    "c3 = (1, 2)\n",
    "\n",
    "\n",
    "prev_c1 = None\n",
    "prev_c2 = None\n",
    "prev_c3 = None\n",
    "\n",
    "while True:\n",
    "    distFromC1, distFromC2, distFromC3 = [], [], []\n",
    "    for i, centroid in enumerate([c1, c2, c3]):\n",
    "        dist = calcDist(df['X'], df['Y'], centroid[0], centroid[1])\n",
    "        if i == 0:\n",
    "            distFromC1 = dist\n",
    "        elif i == 1:\n",
    "            distFromC2 = dist\n",
    "        else:\n",
    "            distFromC3 = dist\n",
    "    \n",
    "    min_values = np.array([])\n",
    "    min_arrays = np.array([])\n",
    "    for a1, a2, a3 in zip(distFromC1, distFromC2, distFromC3):\n",
    "        if a1 <= a2 and a1 <= a3:\n",
    "            min_values = np.append(min_values, a1)\n",
    "            min_arrays = np.append(min_arrays, 'cluster1')\n",
    "        elif a2 <= a3:\n",
    "            min_values = np.append(min_values, a2)\n",
    "            min_arrays = np.append(min_arrays, 'cluster2')\n",
    "        else:\n",
    "            min_values = np.append(min_values, a3)\n",
    "            min_arrays = np.append(min_arrays, 'cluster3')\n",
    "\n",
    "    df_cluster1 = df.iloc[np.where(min_arrays == 'cluster1')[0]]\n",
    "    df_cluster2 = df.iloc[np.where(min_arrays == 'cluster2')[0]]\n",
    "    df_cluster3 = df.iloc[np.where(min_arrays == 'cluster3')[0]]\n",
    "\n",
    "    centroid1 = (np.mean(np.array(df_cluster1)[:, 0]), np.mean(np.array(df_cluster1)[:, 1]))\n",
    "    centroid2 = (np.mean(np.array(df_cluster2)[:, 0]), np.mean(np.array(df_cluster2)[:, 1]))\n",
    "    centroid3 = (np.mean(np.array(df_cluster3)[:, 0]), np.mean(np.array(df_cluster3)[:, 1]))\n",
    "\n",
    "    if centroid1 == prev_c1 and centroid2 == prev_c2 and centroid3 == prev_c3:\n",
    "        break\n",
    "\n",
    "    prev_c1 = c1\n",
    "    prev_c2 = c2\n",
    "    prev_c3 = c3\n",
    "    c1 = centroid1\n",
    "    c2 = centroid2\n",
    "    c3 = centroid3\n",
    "\n",
    "print(f\"The final centroids are: {centroid1}, {centroid2}, {centroid3}\")\n"
   ]
  }
 ],
 "metadata": {
  "kernelspec": {
   "display_name": "Python 3",
   "language": "python",
   "name": "python3"
  },
  "language_info": {
   "codemirror_mode": {
    "name": "ipython",
    "version": 3
   },
   "file_extension": ".py",
   "mimetype": "text/x-python",
   "name": "python",
   "nbconvert_exporter": "python",
   "pygments_lexer": "ipython3",
   "version": "3.11.1"
  },
  "orig_nbformat": 4,
  "vscode": {
   "interpreter": {
    "hash": "5238573367df39f7286bb46f9ff5f08f63a01a80960060ce41e3c79b190280fa"
   }
  }
 },
 "nbformat": 4,
 "nbformat_minor": 2
}
