{
 "cells": [
  {
   "cell_type": "code",
   "execution_count": null,
   "metadata": {},
   "outputs": [],
   "source": [
    "import pandas as pd\n",
    "import numpy as np\n",
    "\n",
    "\n",
    "data = pd.read_csv('data.csv', header=None)\n",
    "\n",
    "# Create DataFrame with column names 'col1' and 'col2'\n",
    "df = pd.DataFrame({'X': data[0], 'Y': data[1]})\n",
    "\n",
    "\n",
    "# print(df)\n",
    "# print(df.iloc[2])\n",
    "# print(df.X)\n",
    "print(df.values)\n",
    "\n",
    "\n"
   ]
  },
  {
   "cell_type": "code",
   "execution_count": 8,
   "metadata": {},
   "outputs": [
    {
     "name": "stdout",
     "output_type": "stream",
     "text": [
      "1.4142135623730951\n"
     ]
    }
   ],
   "source": [
    "from numpy import sqrt\n",
    "\n",
    "\n",
    "def calcDist(X1, Y1, X2, Y2):\n",
    "    return sqrt((X2-X1)**2 + (Y2-Y1)**2)\n",
    "\n",
    "print(calcDist(2, 4, 1, 5))"
   ]
  },
  {
   "cell_type": "code",
   "execution_count": null,
   "metadata": {},
   "outputs": [],
   "source": [
    "c1 = (1, 5)\n",
    "c2 = (4, 1)\n",
    "c3 = (8, 4)\n",
    "\n",
    "distC1 = calcDist(df['X'], df['Y'], c1[0], c1[1])\n",
    "distC2 = calcDist(df['X'], df['Y'], c2[0], c2[1])\n",
    "distC3 = calcDist(df['X'], df['Y'], c3[0], c3[1])\n",
    "print(distC1)\n",
    "print(distC2)\n",
    "print(distC3)"
   ]
  },
  {
   "cell_type": "code",
   "execution_count": 28,
   "metadata": {},
   "outputs": [
    {
     "name": "stdout",
     "output_type": "stream",
     "text": [
      "The minimum value from iteration 1 is 1.4142135623730951 and it came from array1.\n",
      "The minimum value from iteration 2 is 1.4142135623730951 and it came from array1.\n",
      "The minimum value from iteration 3 is 3.605551275463989 and it came from array3.\n",
      "The minimum value from iteration 4 is 3.605551275463989 and it came from array1.\n",
      "The minimum value from iteration 5 is 1.0 and it came from array3.\n",
      "The minimum value from iteration 6 is 2.8284271247461903 and it came from array3.\n",
      "The minimum value from iteration 7 is 1.4142135623730951 and it came from array2.\n",
      "The minimum value from iteration 8 is 4.242640687119285 and it came from array3.\n",
      "The minimum value from iteration 9 is 2.23606797749979 and it came from array3.\n",
      "The minimum value from iteration 10 is 3.0 and it came from array2.\n"
     ]
    }
   ],
   "source": [
    "min_values = []\n",
    "min_arrays = []\n",
    "\n",
    "# iterate over the corresponding elements of the arrays and compare them\n",
    "for a1, a2, a3 in zip(distC1, distC2, distC3):\n",
    "    # determine the min value and its source array\n",
    "    if a1 <= a2 and a1 <= a3:\n",
    "        min_values.append(a1)\n",
    "        min_arrays.append('array1')\n",
    "    elif a2 <= a3:\n",
    "        min_values.append(a2)\n",
    "        min_arrays.append('array2')\n",
    "    else:\n",
    "        min_values.append(a3)\n",
    "        min_arrays.append('array3')\n",
    "\n",
    "# print the results\n",
    "for i, min_value in enumerate(min_values):\n",
    "    print(f\"The minimum value from iteration {i+1} is {min_value} and it came from {min_arrays[i]}.\")"
   ]
  },
  {
   "cell_type": "code",
   "execution_count": 27,
   "metadata": {},
   "outputs": [
    {
     "name": "stdout",
     "output_type": "stream",
     "text": [
      "Unexpected exception formatting exception. Falling back to standard exception\n"
     ]
    },
    {
     "name": "stderr",
     "output_type": "stream",
     "text": [
      "Traceback (most recent call last):\n",
      "  File \"C:\\Users\\Abir\\AppData\\Roaming\\Python\\Python311\\site-packages\\IPython\\core\\interactiveshell.py\", line 3433, in run_code\n",
      "    exec(code_obj, self.user_global_ns, self.user_ns)\n",
      "  File \"C:\\Users\\Abir\\AppData\\Local\\Temp\\ipykernel_19568\\4144529908.py\", line 17, in <module>\n",
      "    y = float(row[2])\n",
      "              ~~~^^^\n",
      "IndexError: list index out of range\n",
      "\n",
      "During handling of the above exception, another exception occurred:\n",
      "\n",
      "Traceback (most recent call last):\n",
      "  File \"C:\\Users\\Abir\\AppData\\Roaming\\Python\\Python311\\site-packages\\IPython\\core\\interactiveshell.py\", line 2052, in showtraceback\n",
      "    stb = self.InteractiveTB.structured_traceback(\n",
      "          ^^^^^^^^^^^^^^^^^^^^^^^^^^^^^^^^^^^^^^^^\n",
      "  File \"C:\\Users\\Abir\\AppData\\Roaming\\Python\\Python311\\site-packages\\IPython\\core\\ultratb.py\", line 1118, in structured_traceback\n",
      "    return FormattedTB.structured_traceback(\n",
      "           ^^^^^^^^^^^^^^^^^^^^^^^^^^^^^^^^^\n",
      "  File \"C:\\Users\\Abir\\AppData\\Roaming\\Python\\Python311\\site-packages\\IPython\\core\\ultratb.py\", line 1012, in structured_traceback\n",
      "    return VerboseTB.structured_traceback(\n",
      "           ^^^^^^^^^^^^^^^^^^^^^^^^^^^^^^^\n",
      "  File \"C:\\Users\\Abir\\AppData\\Roaming\\Python\\Python311\\site-packages\\IPython\\core\\ultratb.py\", line 865, in structured_traceback\n",
      "    formatted_exception = self.format_exception_as_a_whole(etype, evalue, etb, number_of_lines_of_context,\n",
      "                          ^^^^^^^^^^^^^^^^^^^^^^^^^^^^^^^^^^^^^^^^^^^^^^^^^^^^^^^^^^^^^^^^^^^^^^^^^^^^^^^^\n",
      "  File \"C:\\Users\\Abir\\AppData\\Roaming\\Python\\Python311\\site-packages\\IPython\\core\\ultratb.py\", line 799, in format_exception_as_a_whole\n",
      "    self.get_records(etb, number_of_lines_of_context, tb_offset) if etb else []\n",
      "    ^^^^^^^^^^^^^^^^^^^^^^^^^^^^^^^^^^^^^^^^^^^^^^^^^^^^^^^^^^^^\n",
      "  File \"C:\\Users\\Abir\\AppData\\Roaming\\Python\\Python311\\site-packages\\IPython\\core\\ultratb.py\", line 845, in get_records\n",
      "    style = stack_data.style_with_executing_node(style, self._tb_highlight)\n",
      "            ^^^^^^^^^^^^^^^^^^^^^^^^^^^^^^^^^^^^^^^^^^^^^^^^^^^^^^^^^^^^^^^\n",
      "  File \"C:\\Users\\Abir\\AppData\\Roaming\\Python\\Python311\\site-packages\\stack_data\\core.py\", line 455, in style_with_executing_node\n",
      "    class NewStyle(style):\n",
      "  File \"C:\\Users\\Abir\\AppData\\Roaming\\Python\\Python311\\site-packages\\pygments\\style.py\", line 91, in __new__\n",
      "    ndef[4] = colorformat(styledef[3:])\n",
      "              ^^^^^^^^^^^^^^^^^^^^^^^^^\n",
      "  File \"C:\\Users\\Abir\\AppData\\Roaming\\Python\\Python311\\site-packages\\pygments\\style.py\", line 58, in colorformat\n",
      "    assert False, \"wrong color format %r\" % text\n",
      "AssertionError: wrong color format 'ansiyellow'\n"
     ]
    }
   ],
   "source": [
    "import csv\n",
    "import math\n",
    "\n",
    "# define the fixed points\n",
    "C1 = (1, 1)\n",
    "C2 = (4, 5)\n",
    "C3 = (6, 2)\n",
    "\n",
    "# read the variable points from the CSV file\n",
    "points = {}\n",
    "with open(\"data.csv\", \"r\") as f:\n",
    "    reader = csv.reader(f)\n",
    "    next(reader)  # skip the header row\n",
    "    for row in reader:\n",
    "        name = row[0]\n",
    "        x = float(row[1])\n",
    "        y = float(row[2])\n",
    "        points[name] = (x, y)\n",
    "\n",
    "# create a table with headers\n",
    "table = [[\"Point\", \"C1 Distance\", \"C2 Distance\", \"C3 Distance\", \"Minimum Distance\"]]\n",
    "\n",
    "# loop over the variable points and measure the distances to each fixed point\n",
    "for point_name, point in points.items():\n",
    "    # measure the distances to each fixed point\n",
    "    C1_distance = math.dist(point, C1)\n",
    "    C2_distance = math.dist(point, C2)\n",
    "    C3_distance = math.dist(point, C3)\n",
    "    \n",
    "    # determine the minimum distance and its source point\n",
    "    min_distance = min(C1_distance, C2_distance, C3_distance)\n",
    "    min_point = \"\"\n",
    "    if min_distance == C1_distance:\n",
    "        min_point = \"C1\"\n",
    "    elif min_distance == C2_distance:\n",
    "        min_point = \"C2\"\n",
    "    else:\n",
    "        min_point = \"C3\"\n",
    "    \n",
    "    # add the point and its distances to the table\n",
    "    table.append([point_name, C1_distance, C2_distance, C3_distance, f\"{min_point} ({min_distance})\"])\n",
    "\n",
    "# print the table\n",
    "for row in table:\n",
    "    print(\"{:<10}{:<15}{:<15}{:<15}{:<20}\".format(*row))\n"
   ]
  }
 ],
 "metadata": {
  "kernelspec": {
   "display_name": "Python 3",
   "language": "python",
   "name": "python3"
  },
  "language_info": {
   "codemirror_mode": {
    "name": "ipython",
    "version": 3
   },
   "file_extension": ".py",
   "mimetype": "text/x-python",
   "name": "python",
   "nbconvert_exporter": "python",
   "pygments_lexer": "ipython3",
   "version": "3.11.1"
  },
  "orig_nbformat": 4,
  "vscode": {
   "interpreter": {
    "hash": "5238573367df39f7286bb46f9ff5f08f63a01a80960060ce41e3c79b190280fa"
   }
  }
 },
 "nbformat": 4,
 "nbformat_minor": 2
}
